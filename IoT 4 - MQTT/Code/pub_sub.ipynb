{
 "cells": [
  {
   "cell_type": "code",
   "execution_count": null,
   "metadata": {},
   "outputs": [
    {
     "name": "stdout",
     "output_type": "stream",
     "text": [
      "Published: {'sector': 'sector1', 'device_id': 'sensor123', 'timestamp': '2025-03-18 08:31:08', 'crowd_density': 85}\n"
     ]
    },
    {
     "name": "stderr",
     "output_type": "stream",
     "text": [
      "C:\\Users\\anves\\AppData\\Local\\Temp\\ipykernel_12896\\949585002.py:11: DeprecationWarning: Callback API version 1 is deprecated, update to latest version\n",
      "  client = mqtt.Client()\n"
     ]
    },
    {
     "name": "stdout",
     "output_type": "stream",
     "text": [
      "Published: {'sector': 'sector1', 'device_id': 'sensor123', 'timestamp': '2025-03-18 08:31:13', 'crowd_density': 85}\n",
      "Published: {'sector': 'sector1', 'device_id': 'sensor123', 'timestamp': '2025-03-18 08:31:18', 'crowd_density': 85}\n"
     ]
    },
    {
     "ename": "KeyboardInterrupt",
     "evalue": "",
     "output_type": "error",
     "traceback": [
      "\u001b[1;31m---------------------------------------------------------------------------\u001b[0m",
      "\u001b[1;31mKeyboardInterrupt\u001b[0m                         Traceback (most recent call last)",
      "Cell \u001b[1;32mIn[1], line 24\u001b[0m\n\u001b[0;32m     22\u001b[0m client\u001b[38;5;241m.\u001b[39mpublish(topic, json\u001b[38;5;241m.\u001b[39mdumps(message), qos\u001b[38;5;241m=\u001b[39m\u001b[38;5;241m1\u001b[39m)\n\u001b[0;32m     23\u001b[0m \u001b[38;5;28mprint\u001b[39m(\u001b[38;5;124mf\u001b[39m\u001b[38;5;124m\"\u001b[39m\u001b[38;5;124mPublished: \u001b[39m\u001b[38;5;132;01m{\u001b[39;00mmessage\u001b[38;5;132;01m}\u001b[39;00m\u001b[38;5;124m\"\u001b[39m)\n\u001b[1;32m---> 24\u001b[0m \u001b[43mtime\u001b[49m\u001b[38;5;241;43m.\u001b[39;49m\u001b[43msleep\u001b[49m\u001b[43m(\u001b[49m\u001b[38;5;241;43m5\u001b[39;49m\u001b[43m)\u001b[49m  \u001b[38;5;66;03m# Send data every 5 seconds\u001b[39;00m\n",
      "\u001b[1;31mKeyboardInterrupt\u001b[0m: "
     ]
    }
   ],
   "source": [
    "import paho.mqtt.client as mqtt\n",
    "import json\n",
    "import time\n",
    "\n",
    "# Define MQTT broker and topic\n",
    "broker = \"localhost\"  # Change to cloud broker if needed\n",
    "port = 1883\n",
    "topic = \"crowd/sector1/sensor123\"\n",
    "\n",
    "# Create MQTT client and connect\n",
    "client = mqtt.Client()\n",
    "client.connect(broker, port, 60)\n",
    "\n",
    "# Publish sensor data periodically\n",
    "while True:\n",
    "    message = {\n",
    "        \"sector\": \"sector1\",\n",
    "        \"device_id\": \"sensor123\",\n",
    "        \"timestamp\": time.strftime(\"%Y-%m-%d %H:%M:%S\"),\n",
    "        \"crowd_density\": 85\n",
    "    }\n",
    "    client.publish(topic, json.dumps(message), qos=1)\n",
    "    print(f\"Published: {message}\")\n",
    "    time.sleep(5)  # Send data every 5 seconds\n"
   ]
  },
  {
   "cell_type": "markdown",
   "metadata": {},
   "source": [
    "Sub"
   ]
  },
  {
   "cell_type": "code",
   "execution_count": 4,
   "metadata": {},
   "outputs": [
    {
     "name": "stderr",
     "output_type": "stream",
     "text": [
      "C:\\Users\\anves\\AppData\\Local\\Temp\\ipykernel_12896\\4028585870.py:13: DeprecationWarning: Callback API version 1 is deprecated, update to latest version\n",
      "  client = mqtt.Client()\n"
     ]
    },
    {
     "name": "stdout",
     "output_type": "stream",
     "text": [
      "Received message: {\"sector\": \"sector1\", \"device_id\": \"sensor123\", \"timestamp\": \"2025-03-18 08:33:38\", \"crowd_density\": 85} from crowd/sector1/sensor123\n",
      "Received message: {\"sector\": \"sector1\", \"device_id\": \"sensor123\", \"timestamp\": \"2025-03-18 08:33:43\", \"crowd_density\": 85} from crowd/sector1/sensor123\n",
      "Received message: {\"sector\": \"sector1\", \"device_id\": \"sensor123\", \"timestamp\": \"2025-03-18 08:33:48\", \"crowd_density\": 85} from crowd/sector1/sensor123\n",
      "Received message: {\"sector\": \"sector1\", \"device_id\": \"sensor123\", \"timestamp\": \"2025-03-18 08:33:53\", \"crowd_density\": 85} from crowd/sector1/sensor123\n",
      "Received message: {\"sector\": \"sector1\", \"device_id\": \"sensor123\", \"timestamp\": \"2025-03-18 08:33:58\", \"crowd_density\": 85} from crowd/sector1/sensor123\n",
      "Received message: {\"sector\": \"sector1\", \"device_id\": \"sensor123\", \"timestamp\": \"2025-03-18 08:34:03\", \"crowd_density\": 85} from crowd/sector1/sensor123\n",
      "Received message: {\"sector\": \"sector1\", \"device_id\": \"sensor123\", \"timestamp\": \"2025-03-18 08:34:08\", \"crowd_density\": 85} from crowd/sector1/sensor123\n",
      "Received message: {\"sector\": \"sector1\", \"device_id\": \"sensor123\", \"timestamp\": \"2025-03-18 08:34:13\", \"crowd_density\": 85} from crowd/sector1/sensor123\n",
      "Received message: {\"sector\": \"sector1\", \"device_id\": \"sensor123\", \"timestamp\": \"2025-03-18 08:34:18\", \"crowd_density\": 85} from crowd/sector1/sensor123\n",
      "Received message: {\"sector\": \"sector1\", \"device_id\": \"sensor123\", \"timestamp\": \"2025-03-18 08:34:23\", \"crowd_density\": 85} from crowd/sector1/sensor123\n",
      "Received message: {\"sector\": \"sector1\", \"device_id\": \"sensor123\", \"timestamp\": \"2025-03-18 08:34:28\", \"crowd_density\": 85} from crowd/sector1/sensor123\n",
      "Received message: {\"sector\": \"sector1\", \"device_id\": \"sensor123\", \"timestamp\": \"2025-03-18 08:34:33\", \"crowd_density\": 85} from crowd/sector1/sensor123\n",
      "Received message: {\"sector\": \"sector1\", \"device_id\": \"sensor123\", \"timestamp\": \"2025-03-18 08:34:38\", \"crowd_density\": 85} from crowd/sector1/sensor123\n",
      "Received message: {\"sector\": \"sector1\", \"device_id\": \"sensor123\", \"timestamp\": \"2025-03-18 08:34:43\", \"crowd_density\": 85} from crowd/sector1/sensor123\n",
      "Received message: {\"sector\": \"sector1\", \"device_id\": \"sensor123\", \"timestamp\": \"2025-03-18 08:34:48\", \"crowd_density\": 85} from crowd/sector1/sensor123\n",
      "Received message: {\"sector\": \"sector1\", \"device_id\": \"sensor123\", \"timestamp\": \"2025-03-18 08:34:53\", \"crowd_density\": 85} from crowd/sector1/sensor123\n",
      "Received message: {\"sector\": \"sector1\", \"device_id\": \"sensor123\", \"timestamp\": \"2025-03-18 08:34:58\", \"crowd_density\": 85} from crowd/sector1/sensor123\n",
      "Received message: {\"sector\": \"sector1\", \"device_id\": \"sensor123\", \"timestamp\": \"2025-03-18 08:35:03\", \"crowd_density\": 85} from crowd/sector1/sensor123\n",
      "Received message: {\"sector\": \"sector1\", \"device_id\": \"sensor123\", \"timestamp\": \"2025-03-18 08:35:08\", \"crowd_density\": 85} from crowd/sector1/sensor123\n",
      "Received message: {\"sector\": \"sector1\", \"device_id\": \"sensor123\", \"timestamp\": \"2025-03-18 08:35:13\", \"crowd_density\": 85} from crowd/sector1/sensor123\n"
     ]
    },
    {
     "ename": "KeyboardInterrupt",
     "evalue": "",
     "output_type": "error",
     "traceback": [
      "\u001b[1;31m---------------------------------------------------------------------------\u001b[0m",
      "\u001b[1;31mConnectionRefusedError\u001b[0m                    Traceback (most recent call last)",
      "File \u001b[1;32mC:\\Program Files\\WindowsApps\\PythonSoftwareFoundation.Python.3.12_3.12.2544.0_x64__qbz5n2kfra8p0\\Lib\\socket.py:850\u001b[0m, in \u001b[0;36mcreate_connection\u001b[1;34m(address, timeout, source_address, all_errors)\u001b[0m\n\u001b[0;32m    849\u001b[0m     sock\u001b[38;5;241m.\u001b[39mbind(source_address)\n\u001b[1;32m--> 850\u001b[0m \u001b[43msock\u001b[49m\u001b[38;5;241;43m.\u001b[39;49m\u001b[43mconnect\u001b[49m\u001b[43m(\u001b[49m\u001b[43msa\u001b[49m\u001b[43m)\u001b[49m\n\u001b[0;32m    851\u001b[0m \u001b[38;5;66;03m# Break explicitly a reference cycle\u001b[39;00m\n",
      "\u001b[1;31mConnectionRefusedError\u001b[0m: [WinError 10061] No connection could be made because the target machine actively refused it",
      "\nDuring handling of the above exception, another exception occurred:\n",
      "\u001b[1;31mKeyboardInterrupt\u001b[0m                         Traceback (most recent call last)",
      "Cell \u001b[1;32mIn[4], line 19\u001b[0m\n\u001b[0;32m     16\u001b[0m client\u001b[38;5;241m.\u001b[39msubscribe(topic, qos\u001b[38;5;241m=\u001b[39m\u001b[38;5;241m1\u001b[39m)\n\u001b[0;32m     18\u001b[0m \u001b[38;5;66;03m# Listen for incoming messages\u001b[39;00m\n\u001b[1;32m---> 19\u001b[0m \u001b[43mclient\u001b[49m\u001b[38;5;241;43m.\u001b[39;49m\u001b[43mloop_forever\u001b[49m\u001b[43m(\u001b[49m\u001b[43m)\u001b[49m\n",
      "File \u001b[1;32m~\\AppData\\Local\\Packages\\PythonSoftwareFoundation.Python.3.12_qbz5n2kfra8p0\\LocalCache\\local-packages\\Python312\\site-packages\\paho\\mqtt\\client.py:2324\u001b[0m, in \u001b[0;36mClient.loop_forever\u001b[1;34m(self, timeout, retry_first_connection)\u001b[0m\n\u001b[0;32m   2322\u001b[0m \u001b[38;5;28;01melse\u001b[39;00m:\n\u001b[0;32m   2323\u001b[0m     \u001b[38;5;28;01mtry\u001b[39;00m:\n\u001b[1;32m-> 2324\u001b[0m         \u001b[38;5;28;43mself\u001b[39;49m\u001b[38;5;241;43m.\u001b[39;49m\u001b[43mreconnect\u001b[49m\u001b[43m(\u001b[49m\u001b[43m)\u001b[49m\n\u001b[0;32m   2325\u001b[0m     \u001b[38;5;28;01mexcept\u001b[39;00m \u001b[38;5;167;01mOSError\u001b[39;00m:\n\u001b[0;32m   2326\u001b[0m         \u001b[38;5;28mself\u001b[39m\u001b[38;5;241m.\u001b[39m_handle_on_connect_fail()\n",
      "File \u001b[1;32m~\\AppData\\Local\\Packages\\PythonSoftwareFoundation.Python.3.12_qbz5n2kfra8p0\\LocalCache\\local-packages\\Python312\\site-packages\\paho\\mqtt\\client.py:1598\u001b[0m, in \u001b[0;36mClient.reconnect\u001b[1;34m(self)\u001b[0m\n\u001b[0;32m   1595\u001b[0m         \u001b[38;5;28;01mif\u001b[39;00m \u001b[38;5;129;01mnot\u001b[39;00m \u001b[38;5;28mself\u001b[39m\u001b[38;5;241m.\u001b[39msuppress_exceptions:\n\u001b[0;32m   1596\u001b[0m             \u001b[38;5;28;01mraise\u001b[39;00m\n\u001b[1;32m-> 1598\u001b[0m \u001b[38;5;28mself\u001b[39m\u001b[38;5;241m.\u001b[39m_sock \u001b[38;5;241m=\u001b[39m \u001b[38;5;28;43mself\u001b[39;49m\u001b[38;5;241;43m.\u001b[39;49m\u001b[43m_create_socket\u001b[49m\u001b[43m(\u001b[49m\u001b[43m)\u001b[49m\n\u001b[0;32m   1600\u001b[0m \u001b[38;5;28mself\u001b[39m\u001b[38;5;241m.\u001b[39m_sock\u001b[38;5;241m.\u001b[39msetblocking(\u001b[38;5;28;01mFalse\u001b[39;00m)  \u001b[38;5;66;03m# type: ignore[attr-defined]\u001b[39;00m\n\u001b[0;32m   1601\u001b[0m \u001b[38;5;28mself\u001b[39m\u001b[38;5;241m.\u001b[39m_registered_write \u001b[38;5;241m=\u001b[39m \u001b[38;5;28;01mFalse\u001b[39;00m\n",
      "File \u001b[1;32m~\\AppData\\Local\\Packages\\PythonSoftwareFoundation.Python.3.12_qbz5n2kfra8p0\\LocalCache\\local-packages\\Python312\\site-packages\\paho\\mqtt\\client.py:4609\u001b[0m, in \u001b[0;36mClient._create_socket\u001b[1;34m(self)\u001b[0m\n\u001b[0;32m   4607\u001b[0m     sock \u001b[38;5;241m=\u001b[39m \u001b[38;5;28mself\u001b[39m\u001b[38;5;241m.\u001b[39m_create_unix_socket_connection()\n\u001b[0;32m   4608\u001b[0m \u001b[38;5;28;01melse\u001b[39;00m:\n\u001b[1;32m-> 4609\u001b[0m     sock \u001b[38;5;241m=\u001b[39m \u001b[38;5;28;43mself\u001b[39;49m\u001b[38;5;241;43m.\u001b[39;49m\u001b[43m_create_socket_connection\u001b[49m\u001b[43m(\u001b[49m\u001b[43m)\u001b[49m\n\u001b[0;32m   4611\u001b[0m \u001b[38;5;28;01mif\u001b[39;00m \u001b[38;5;28mself\u001b[39m\u001b[38;5;241m.\u001b[39m_ssl:\n\u001b[0;32m   4612\u001b[0m     sock \u001b[38;5;241m=\u001b[39m \u001b[38;5;28mself\u001b[39m\u001b[38;5;241m.\u001b[39m_ssl_wrap_socket(sock)\n",
      "File \u001b[1;32m~\\AppData\\Local\\Packages\\PythonSoftwareFoundation.Python.3.12_qbz5n2kfra8p0\\LocalCache\\local-packages\\Python312\\site-packages\\paho\\mqtt\\client.py:4640\u001b[0m, in \u001b[0;36mClient._create_socket_connection\u001b[1;34m(self)\u001b[0m\n\u001b[0;32m   4638\u001b[0m     \u001b[38;5;28;01mreturn\u001b[39;00m socks\u001b[38;5;241m.\u001b[39mcreate_connection(addr, timeout\u001b[38;5;241m=\u001b[39m\u001b[38;5;28mself\u001b[39m\u001b[38;5;241m.\u001b[39m_connect_timeout, source_address\u001b[38;5;241m=\u001b[39msource, \u001b[38;5;241m*\u001b[39m\u001b[38;5;241m*\u001b[39mproxy)\n\u001b[0;32m   4639\u001b[0m \u001b[38;5;28;01melse\u001b[39;00m:\n\u001b[1;32m-> 4640\u001b[0m     \u001b[38;5;28;01mreturn\u001b[39;00m \u001b[43msocket\u001b[49m\u001b[38;5;241;43m.\u001b[39;49m\u001b[43mcreate_connection\u001b[49m\u001b[43m(\u001b[49m\u001b[43maddr\u001b[49m\u001b[43m,\u001b[49m\u001b[43m \u001b[49m\u001b[43mtimeout\u001b[49m\u001b[38;5;241;43m=\u001b[39;49m\u001b[38;5;28;43mself\u001b[39;49m\u001b[38;5;241;43m.\u001b[39;49m\u001b[43m_connect_timeout\u001b[49m\u001b[43m,\u001b[49m\u001b[43m \u001b[49m\u001b[43msource_address\u001b[49m\u001b[38;5;241;43m=\u001b[39;49m\u001b[43msource\u001b[49m\u001b[43m)\u001b[49m\n",
      "File \u001b[1;32mC:\\Program Files\\WindowsApps\\PythonSoftwareFoundation.Python.3.12_3.12.2544.0_x64__qbz5n2kfra8p0\\Lib\\socket.py:857\u001b[0m, in \u001b[0;36mcreate_connection\u001b[1;34m(address, timeout, source_address, all_errors)\u001b[0m\n\u001b[0;32m    855\u001b[0m \u001b[38;5;28;01mexcept\u001b[39;00m error \u001b[38;5;28;01mas\u001b[39;00m exc:\n\u001b[0;32m    856\u001b[0m     \u001b[38;5;28;01mif\u001b[39;00m \u001b[38;5;129;01mnot\u001b[39;00m all_errors:\n\u001b[1;32m--> 857\u001b[0m         \u001b[43mexceptions\u001b[49m\u001b[38;5;241;43m.\u001b[39;49m\u001b[43mclear\u001b[49m\u001b[43m(\u001b[49m\u001b[43m)\u001b[49m  \u001b[38;5;66;03m# raise only the last error\u001b[39;00m\n\u001b[0;32m    858\u001b[0m     exceptions\u001b[38;5;241m.\u001b[39mappend(exc)\n\u001b[0;32m    859\u001b[0m     \u001b[38;5;28;01mif\u001b[39;00m sock \u001b[38;5;129;01mis\u001b[39;00m \u001b[38;5;129;01mnot\u001b[39;00m \u001b[38;5;28;01mNone\u001b[39;00m:\n",
      "\u001b[1;31mKeyboardInterrupt\u001b[0m: "
     ]
    }
   ],
   "source": [
    "import paho.mqtt.client as mqtt\n",
    "\n",
    "# Callback function when a message is received\n",
    "def on_message(client, userdata, message):\n",
    "    print(f\"Received message: {message.payload.decode()} from {message.topic}\")\n",
    "\n",
    "# Define MQTT broker and topic\n",
    "broker = \"localhost\"\n",
    "port = 1883\n",
    "topic = \"crowd/sector1/#\"  # Subscribe to all devices in Sector 1\n",
    "\n",
    "# Create MQTT client and connect\n",
    "client = mqtt.Client()\n",
    "client.on_message = on_message\n",
    "client.connect(broker, port, 60)\n",
    "client.subscribe(topic, qos=1)\n",
    "\n",
    "# Listen for incoming messages\n",
    "client.loop_forever()"
   ]
  }
 ],
 "metadata": {
  "kernelspec": {
   "display_name": "Python 3",
   "language": "python",
   "name": "python3"
  },
  "language_info": {
   "codemirror_mode": {
    "name": "ipython",
    "version": 3
   },
   "file_extension": ".py",
   "mimetype": "text/x-python",
   "name": "python",
   "nbconvert_exporter": "python",
   "pygments_lexer": "ipython3",
   "version": "3.12.9"
  }
 },
 "nbformat": 4,
 "nbformat_minor": 2
}
